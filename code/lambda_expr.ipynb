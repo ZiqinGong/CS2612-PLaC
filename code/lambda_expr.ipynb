{
 "cells": [
  {
   "attachments": {},
   "cell_type": "markdown",
   "metadata": {},
   "source": [
    "```\n",
    "E = V\n",
    "  | E E           // function application\n",
    "  | lambda V: E   // function abstraction\n",
    "```"
   ]
  },
  {
   "attachments": {},
   "cell_type": "markdown",
   "metadata": {},
   "source": [
    "## Bool"
   ]
  },
  {
   "cell_type": "code",
   "execution_count": 1,
   "metadata": {},
   "outputs": [],
   "source": [
    "true = lambda t: lambda f: t\n",
    "false = lambda t: lambda f: f\n",
    "test = lambda b: lambda u: lambda v: b(u)(v)\n",
    "\n",
    "andb = lambda b1: lambda b2: test(b1)(b2)(false)\n",
    "orb = lambda b1: lambda b2: test(b1)(true)(b2)"
   ]
  },
  {
   "cell_type": "code",
   "execution_count": 2,
   "metadata": {},
   "outputs": [],
   "source": [
    "tt = True\n",
    "ff = False"
   ]
  },
  {
   "attachments": {},
   "cell_type": "markdown",
   "metadata": {},
   "source": [
    "## Natural number"
   ]
  },
  {
   "cell_type": "code",
   "execution_count": 3,
   "metadata": {},
   "outputs": [],
   "source": [
    "zero = lambda f: lambda x: x\n",
    "one = lambda f: lambda x: f(x)\n",
    "two = lambda f: lambda x: f(f(x))\n",
    "\n",
    "succ = lambda n: lambda f: lambda x: f(n(f)(x))\n",
    "plus = lambda n1: lambda n2: lambda f: lambda x: n1(f(n2(f)(x)))\n",
    "plus_ = lambda n1: lambda n2: n1(succ)(n2)\n",
    "mult = lambda n1: lambda n2: lambda f: lambda x: n1(n2(f))(x)\n",
    "\n",
    "is_zero = lambda n: n(lambda b: false)(true)"
   ]
  },
  {
   "cell_type": "code",
   "execution_count": 4,
   "metadata": {},
   "outputs": [],
   "source": [
    "f = lambda x: x + 1\n",
    "x = 0\n",
    "\n",
    "nats = [zero]\n",
    "for i in range(100):\n",
    "  nats.append(succ(nats[-1]))"
   ]
  },
  {
   "cell_type": "code",
   "execution_count": 5,
   "metadata": {},
   "outputs": [
    {
     "name": "stdout",
     "output_type": "stream",
     "text": [
      "1349\n",
      "False\n"
     ]
    }
   ],
   "source": [
    "print(mult(nats[19])(nats[71])(f)(x))\n",
    "print(is_zero(plus(nats[99])(succ(mult(nats[71])(nats[56]))))(tt)(ff))"
   ]
  },
  {
   "attachments": {},
   "cell_type": "markdown",
   "metadata": {},
   "source": [
    "## Pair"
   ]
  },
  {
   "cell_type": "code",
   "execution_count": 6,
   "metadata": {},
   "outputs": [],
   "source": [
    "pair = lambda x: lambda y: lambda b: b(x)(y)\n",
    "fst = lambda p: p(true)\n",
    "snd = lambda p: p(false)"
   ]
  },
  {
   "attachments": {},
   "cell_type": "markdown",
   "metadata": {},
   "source": [
    "To define `pred` such that\n",
    "```\n",
    "pred 0 = 0\n",
    "pred 1 = 0\n",
    "pred 2 = 1\n",
    "```\n",
    "we need to first define `ss` and `zz` such that\n",
    "```\n",
    "ss (0, 0) = (1, 0)\n",
    "ss (1, 0) = (2, 1)\n",
    "ss (2, 1) = (3, 2)\n",
    "\n",
    "1 ss zz = ss zz = (1, 0)            // = pair 1 0\n",
    "2 ss zz = ss (ss zz) = (2, 1)       // = pair 2 1\n",
    "3 ss zz = ss (ss (ss zz)) = (3, 2)  // = pair 3 2"
   ]
  },
  {
   "cell_type": "code",
   "execution_count": 7,
   "metadata": {},
   "outputs": [],
   "source": [
    "zz = pair(zero)(zero)\n",
    "ss = lambda p: pair(succ(fst(p)))(fst(p))\n",
    "pred = lambda n: snd(n(ss)(zz))"
   ]
  },
  {
   "cell_type": "code",
   "execution_count": 8,
   "metadata": {},
   "outputs": [
    {
     "data": {
      "text/plain": [
       "71"
      ]
     },
     "execution_count": 8,
     "metadata": {},
     "output_type": "execute_result"
    }
   ],
   "source": [
    "pred(nats[72])(f)(x)"
   ]
  }
 ],
 "metadata": {
  "kernelspec": {
   "display_name": "Python 3.9.12 ('base')",
   "language": "python",
   "name": "python3"
  },
  "language_info": {
   "codemirror_mode": {
    "name": "ipython",
    "version": 3
   },
   "file_extension": ".py",
   "mimetype": "text/x-python",
   "name": "python",
   "nbconvert_exporter": "python",
   "pygments_lexer": "ipython3",
   "version": "3.9.12"
  },
  "orig_nbformat": 4,
  "vscode": {
   "interpreter": {
    "hash": "8db306ebaae7f2858b1d5d57696f1388bc088d0d6baa967375ff283aba17cd89"
   }
  }
 },
 "nbformat": 4,
 "nbformat_minor": 2
}
